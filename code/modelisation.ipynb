{
 "cells": [
  {
   "cell_type": "markdown",
   "id": "3d3e31dad1c49a7e",
   "metadata": {},
   "source": [
    "# Etude Statistique"
   ]
  },
  {
   "cell_type": "markdown",
   "id": "4fafd9352d3ef3b7",
   "metadata": {},
   "source": [
    "Problématique: Prédiction des entrées dans les cinémas français"
   ]
  },
  {
   "cell_type": "markdown",
   "id": "c0ea3bd79f8ceeef",
   "metadata": {},
   "source": [
    "Auteur:\n",
    "- Boukharfien Zainab\n",
    "- Houssoy Adrien\n",
    "- Hurdebourcq Paul"
   ]
  },
  {
   "cell_type": "markdown",
   "id": "a2667eab9e2b7f87",
   "metadata": {},
   "source": [
    "Contexte: Nous cherchons à prédire le nombre d'entrées d'un cinéma sur l'année 2020 à l'aide de différentes variables caractéristiques.\n"
   ]
  },
  {
   "cell_type": "markdown",
   "id": "5b1fcfc47941e8dc",
   "metadata": {},
   "source": [
    "## Installation et découverte de l'environement de travail"
   ]
  },
  {
   "cell_type": "markdown",
   "id": "ac49c7e8f845b747",
   "metadata": {},
   "source": [
    "### Importations des bibliothèques"
   ]
  },
  {
   "cell_type": "code",
   "execution_count": 179,
   "id": "def8509d34229df6",
   "metadata": {
    "ExecuteTime": {
     "end_time": "2025-02-25T17:51:10.446651Z",
     "start_time": "2025-02-25T17:51:10.426993Z"
    }
   },
   "outputs": [],
   "source": [
    "import numpy as np\n",
    "import pandas as pd\n",
    "import matplotlib.pyplot as plt\n",
    "import seaborn as sns\n",
    "from sklearn.impute import KNNImputer\n",
    "from sklearn.preprocessing import LabelEncoder"
   ]
  },
  {
   "cell_type": "markdown",
   "id": "754d2f221edb2427",
   "metadata": {},
   "source": [
    "### Importation des données"
   ]
  },
  {
   "cell_type": "code",
   "execution_count": 180,
   "id": "initial_id",
   "metadata": {
    "ExecuteTime": {
     "end_time": "2025-02-25T17:58:56.433525Z",
     "start_time": "2025-02-25T17:58:56.360416Z"
    },
    "collapsed": true
   },
   "outputs": [
    {
     "data": {
      "text/html": [
       "<div>\n",
       "<style scoped>\n",
       "    .dataframe tbody tr th:only-of-type {\n",
       "        vertical-align: middle;\n",
       "    }\n",
       "\n",
       "    .dataframe tbody tr th {\n",
       "        vertical-align: top;\n",
       "    }\n",
       "\n",
       "    .dataframe thead th {\n",
       "        text-align: right;\n",
       "    }\n",
       "</style>\n",
       "<table border=\"1\" class=\"dataframe\">\n",
       "  <thead>\n",
       "    <tr style=\"text-align: right;\">\n",
       "      <th></th>\n",
       "      <th>N° auto</th>\n",
       "      <th>nom</th>\n",
       "      <th>région administrative</th>\n",
       "      <th>adresse</th>\n",
       "      <th>code INSEE</th>\n",
       "      <th>commune</th>\n",
       "      <th>population de la commune</th>\n",
       "      <th>DEP</th>\n",
       "      <th>N°UU</th>\n",
       "      <th>unité urbaine</th>\n",
       "      <th>...</th>\n",
       "      <th>nombre de films en semaine 1</th>\n",
       "      <th>PdM en entrées des films français</th>\n",
       "      <th>PdM en entrées des films américains</th>\n",
       "      <th>PdM en entrées des films européens</th>\n",
       "      <th>PdM en entrées des autres films</th>\n",
       "      <th>films Art et Essai</th>\n",
       "      <th>PdM en entrées des films Art et Essai</th>\n",
       "      <th>latitude</th>\n",
       "      <th>longitude</th>\n",
       "      <th>geolocalisation</th>\n",
       "    </tr>\n",
       "  </thead>\n",
       "  <tbody>\n",
       "    <tr>\n",
       "      <th>0</th>\n",
       "      <td>55</td>\n",
       "      <td>ELYSEES LINCOLN</td>\n",
       "      <td>ILE-DE-FRANCE</td>\n",
       "      <td>14 RUE LINCOLN</td>\n",
       "      <td>75108</td>\n",
       "      <td>Paris 8e Arrondissement</td>\n",
       "      <td>36694</td>\n",
       "      <td>75</td>\n",
       "      <td>851</td>\n",
       "      <td>Paris</td>\n",
       "      <td>...</td>\n",
       "      <td>53</td>\n",
       "      <td>48,82847702</td>\n",
       "      <td>5,617302493</td>\n",
       "      <td>26,36427356</td>\n",
       "      <td>19,18994693</td>\n",
       "      <td>61</td>\n",
       "      <td>87,62891759</td>\n",
       "      <td>48,870512</td>\n",
       "      <td>2,303157</td>\n",
       "      <td>48,870512,2,303157</td>\n",
       "    </tr>\n",
       "    <tr>\n",
       "      <th>1</th>\n",
       "      <td>204</td>\n",
       "      <td>UGC OPERA</td>\n",
       "      <td>ILE-DE-FRANCE</td>\n",
       "      <td>32 BD DES ITALIENS</td>\n",
       "      <td>75109</td>\n",
       "      <td>Paris 9e Arrondissement</td>\n",
       "      <td>59408</td>\n",
       "      <td>75</td>\n",
       "      <td>851</td>\n",
       "      <td>Paris</td>\n",
       "      <td>...</td>\n",
       "      <td>41</td>\n",
       "      <td>47,16468714</td>\n",
       "      <td>42,30156431</td>\n",
       "      <td>10,49210603</td>\n",
       "      <td>0,041642526</td>\n",
       "      <td>33</td>\n",
       "      <td>53,34226535</td>\n",
       "      <td>48,871332</td>\n",
       "      <td>2,335302</td>\n",
       "      <td>48,871332,2,335302</td>\n",
       "    </tr>\n",
       "    <tr>\n",
       "      <th>2</th>\n",
       "      <td>301</td>\n",
       "      <td>MAX LINDER</td>\n",
       "      <td>ILE-DE-FRANCE</td>\n",
       "      <td>24 BD POISSONNIERE</td>\n",
       "      <td>75109</td>\n",
       "      <td>Paris 9e Arrondissement</td>\n",
       "      <td>59408</td>\n",
       "      <td>75</td>\n",
       "      <td>851</td>\n",
       "      <td>Paris</td>\n",
       "      <td>...</td>\n",
       "      <td>8</td>\n",
       "      <td>6,97058738</td>\n",
       "      <td>49,98399907</td>\n",
       "      <td>35,58607046</td>\n",
       "      <td>7,459343089</td>\n",
       "      <td>64</td>\n",
       "      <td>53,67294097</td>\n",
       "      <td>48,871363</td>\n",
       "      <td>2,344886</td>\n",
       "      <td>48,871363,2,344886</td>\n",
       "    </tr>\n",
       "    <tr>\n",
       "      <th>3</th>\n",
       "      <td>451</td>\n",
       "      <td>UGC MONTPARNASSE</td>\n",
       "      <td>ILE-DE-FRANCE</td>\n",
       "      <td>83 BD DU MONTPARNASSE</td>\n",
       "      <td>75106</td>\n",
       "      <td>Paris 6e Arrondissement</td>\n",
       "      <td>42428</td>\n",
       "      <td>75</td>\n",
       "      <td>851</td>\n",
       "      <td>Paris</td>\n",
       "      <td>...</td>\n",
       "      <td>63</td>\n",
       "      <td>43,58109209</td>\n",
       "      <td>38,32192339</td>\n",
       "      <td>15,69030155</td>\n",
       "      <td>2,406682967</td>\n",
       "      <td>45</td>\n",
       "      <td>39,64221679</td>\n",
       "      <td>48,84351</td>\n",
       "      <td>2,325646</td>\n",
       "      <td>48,84351,2,325646</td>\n",
       "    </tr>\n",
       "    <tr>\n",
       "      <th>4</th>\n",
       "      <td>731</td>\n",
       "      <td>MK2 ODEON COTE SAINT-GERMAIN</td>\n",
       "      <td>ILE-DE-FRANCE</td>\n",
       "      <td>113 BD ST GERMAIN</td>\n",
       "      <td>75106</td>\n",
       "      <td>Paris 6e Arrondissement</td>\n",
       "      <td>42428</td>\n",
       "      <td>75</td>\n",
       "      <td>851</td>\n",
       "      <td>Paris</td>\n",
       "      <td>...</td>\n",
       "      <td>58</td>\n",
       "      <td>55,90664627</td>\n",
       "      <td>24,3213105</td>\n",
       "      <td>13,33991217</td>\n",
       "      <td>6,43213105</td>\n",
       "      <td>48</td>\n",
       "      <td>68,84195984</td>\n",
       "      <td>48,852437</td>\n",
       "      <td>2,338266</td>\n",
       "      <td>48,852437,2,338266</td>\n",
       "    </tr>\n",
       "  </tbody>\n",
       "</table>\n",
       "<p>5 rows × 40 columns</p>\n",
       "</div>"
      ],
      "text/plain": [
       "   N° auto                           nom région administrative  \\\n",
       "0       55               ELYSEES LINCOLN         ILE-DE-FRANCE   \n",
       "1      204                     UGC OPERA         ILE-DE-FRANCE   \n",
       "2      301                    MAX LINDER         ILE-DE-FRANCE   \n",
       "3      451              UGC MONTPARNASSE         ILE-DE-FRANCE   \n",
       "4      731  MK2 ODEON COTE SAINT-GERMAIN         ILE-DE-FRANCE   \n",
       "\n",
       "                 adresse code INSEE                  commune  \\\n",
       "0         14 RUE LINCOLN      75108  Paris 8e Arrondissement   \n",
       "1     32 BD DES ITALIENS      75109  Paris 9e Arrondissement   \n",
       "2     24 BD POISSONNIERE      75109  Paris 9e Arrondissement   \n",
       "3  83 BD DU MONTPARNASSE      75106  Paris 6e Arrondissement   \n",
       "4      113 BD ST GERMAIN      75106  Paris 6e Arrondissement   \n",
       "\n",
       "   population de la commune DEP N°UU unité urbaine  ...  \\\n",
       "0                     36694  75  851         Paris  ...   \n",
       "1                     59408  75  851         Paris  ...   \n",
       "2                     59408  75  851         Paris  ...   \n",
       "3                     42428  75  851         Paris  ...   \n",
       "4                     42428  75  851         Paris  ...   \n",
       "\n",
       "   nombre de films en semaine 1 PdM en entrées des films français  \\\n",
       "0                            53                       48,82847702   \n",
       "1                            41                       47,16468714   \n",
       "2                             8                        6,97058738   \n",
       "3                            63                       43,58109209   \n",
       "4                            58                       55,90664627   \n",
       "\n",
       "   PdM en entrées des films américains  PdM en entrées des films européens  \\\n",
       "0                          5,617302493                         26,36427356   \n",
       "1                          42,30156431                         10,49210603   \n",
       "2                          49,98399907                         35,58607046   \n",
       "3                          38,32192339                         15,69030155   \n",
       "4                           24,3213105                         13,33991217   \n",
       "\n",
       "   PdM en entrées des autres films  films Art et Essai  \\\n",
       "0                      19,18994693                  61   \n",
       "1                      0,041642526                  33   \n",
       "2                      7,459343089                  64   \n",
       "3                      2,406682967                  45   \n",
       "4                       6,43213105                  48   \n",
       "\n",
       "   PdM en entrées des films Art et Essai   latitude longitude  \\\n",
       "0                            87,62891759  48,870512  2,303157   \n",
       "1                            53,34226535  48,871332  2,335302   \n",
       "2                            53,67294097  48,871363  2,344886   \n",
       "3                            39,64221679   48,84351  2,325646   \n",
       "4                            68,84195984  48,852437  2,338266   \n",
       "\n",
       "      geolocalisation  \n",
       "0  48,870512,2,303157  \n",
       "1  48,871332,2,335302  \n",
       "2  48,871363,2,344886  \n",
       "3   48,84351,2,325646  \n",
       "4  48,852437,2,338266  \n",
       "\n",
       "[5 rows x 40 columns]"
      ]
     },
     "execution_count": 180,
     "metadata": {},
     "output_type": "execute_result"
    }
   ],
   "source": [
    "data=pd.read_csv(\"../cinematographiques-propre.csv\",sep=';',encoding='ANSI')\n",
    "data.head()"
   ]
  },
  {
   "cell_type": "markdown",
   "id": "b1b22f53",
   "metadata": {},
   "source": [
    "### Présentation du jeu de données"
   ]
  },
  {
   "cell_type": "code",
   "execution_count": 181,
   "id": "19918ae27ed287c6",
   "metadata": {},
   "outputs": [
    {
     "name": "stdout",
     "output_type": "stream",
     "text": [
      "Nombre de cinéma étudiées: 2042\n",
      "Nombre de caractéristiques (variable): 40\n"
     ]
    }
   ],
   "source": [
    "print(f\"Nombre de cinéma étudiées: {data.shape[0]}\")\n",
    "print(f\"Nombre de caractéristiques (variable): {data.shape[1]}\")"
   ]
  },
  {
   "cell_type": "markdown",
   "id": "5400e4a6",
   "metadata": {},
   "source": [
    "Le jeu de données dont nous disposons regroupe l'activité des cinémas français en 2020. Nous disposons d'une liste de 2042 cinéma et de 40 variables caractéristiques sur les performances du cinéma.\n",
    "Les variables sont les suivantes:\n",
    "\n",
    "- N° auto = Identifiant du cinéma\n",
    "- nom = Nom du cinéma\n",
    "- région administrative = Nom de la région\n",
    "- adresse = Adresse du cinéma\n",
    "- code INSEE = code insee du cinéma\n",
    "- commune = Commune du cinéma\n",
    "- population de la commune = Population de la commune du cinéma\n",
    "- DEP = Numéro de département\n",
    "- N°UU = Numéro de l'unité urbaine du cinéma\n",
    "- unité urbaine = Unité urbaine du cinéma\n",
    "- population unité urbaine = Population de l'unité urbaine du cinéma\n",
    "- situation géographique = Localisation du cinéma\n",
    "- écrans = Nombre d'écran dans le cinéma\n",
    "- fauteuils = Nombre de fauteuils dans le cinéma\n",
    "- semaines d'activité = Nombres de semaines où le cinéma a été ouvert\n",
    "- séances = Nombre de séance du cinéma\n",
    "- entrées 2020 = Nombres d'entrées en 2020\n",
    "- entrées 2019 = Nombre d'entrée en 2019\n",
    "- évolution entrées = Evolution des entrées entre 2019 et 2020\n",
    "- tranche d'entrées = tranche du nombre d'entrée en 2020\n",
    "- propriétaire = Nom du propriétaire du cinéma\n",
    "- programmateur = Nom du programmateur des films diffusées\n",
    "- AE = appartenance à la catégorie art et essai\n",
    "- catégorie Art et Essai = catégorie des films art et essais\n",
    "- label Art et Essai = label des film art et essai\n",
    "- genre = mobilité du cinéma (fixe ou itinérant)\n",
    "- multiplexe = appartenance à un multiplexe (oui/non)\n",
    "- zone de la commune = zone de la comune du cinéma\n",
    "- nombre de films programmés = Nombre de film programmé par le cinéma\n",
    "- nombre de films inédits = nombre de film inédit diffusé\n",
    "- nombre de films en semaine 1 = nombre de film en semaine 1 diffusé\n",
    "- PdM en entrées des films français = part de marché des films français dans le cinéma\n",
    "- PdM en entrées des films américains = part de marché des films américains dans le cinéma\n",
    "- PdM en entrées des films européens = part de marché des films européens dans le cinéma\n",
    "- PdM en entrées des autres films = part de marché des autres films dans le cinéma\n",
    "- films Art et Essai = nombre de film art et essaie diffusé\n",
    "- PdM en entrées des films Art et Essai = part de marché des films art et essai dans le cinéma\n",
    "- latitude = latitude geographique du cinéma\n",
    "- longitude = longitude geographqiue du cinéma\n",
    "- geolocalisation = coordonnées geographique du cinéma\n",
    "\n"
   ]
  },
  {
   "cell_type": "markdown",
   "id": "de76be0d",
   "metadata": {},
   "source": [
    " ## Analyse exploratoire"
   ]
  },
  {
   "cell_type": "markdown",
   "id": "bae1b66c",
   "metadata": {},
   "source": [
    "### Pré-traitement"
   ]
  },
  {
   "cell_type": "markdown",
   "id": "bd939bfe",
   "metadata": {},
   "source": [
    "Nous allons d'abord vérifier si il n'y a pas de valeur manquante dans notre jeu de données."
   ]
  },
  {
   "cell_type": "code",
   "execution_count": 182,
   "id": "9473a60c",
   "metadata": {},
   "outputs": [
    {
     "name": "stdout",
     "output_type": "stream",
     "text": [
      "Valeurs manquantes par caractéristique :\n",
      " N° auto                                     0\n",
      "nom                                         0\n",
      "région administrative                       0\n",
      "adresse                                     1\n",
      "code INSEE                                  0\n",
      "commune                                     0\n",
      "population de la commune                    0\n",
      "DEP                                         0\n",
      "N°UU                                        0\n",
      "unité urbaine                               0\n",
      "population unité urbaine                    0\n",
      "situation géographique                      0\n",
      "écrans                                      0\n",
      "fauteuils                                   0\n",
      "semaines d'activité                         0\n",
      "séances                                     0\n",
      "entrées 2020                                0\n",
      "entrées 2019                                0\n",
      "évolution entrées                           1\n",
      "tranche d'entrées                           0\n",
      "propriétaire                                0\n",
      "programmateur                             854\n",
      "AE                                          0\n",
      "catégorie Art et Essai                      0\n",
      "label Art et Essai                       1199\n",
      "genre                                       0\n",
      "multiplexe                                  0\n",
      "zone de la commune                          0\n",
      "nombre de films programmés                  0\n",
      "nombre de films inédits                     0\n",
      "nombre de films en semaine 1                0\n",
      "PdM en entrées des films français           2\n",
      "PdM en entrées des films américains         2\n",
      "PdM en entrées des films européens          2\n",
      "PdM en entrées des autres films             2\n",
      "films Art et Essai                          0\n",
      "PdM en entrées des films Art et Essai       2\n",
      "latitude                                    0\n",
      "longitude                                   0\n",
      "geolocalisation                             0\n",
      "dtype: int64\n"
     ]
    },
    {
     "data": {
      "image/png": "[encoded data removed]",
      "text/plain": [
       "<Figure size 1440x720 with 1 Axes>"
      ]
     },
     "metadata": {
      "needs_background": "light"
     },
     "output_type": "display_data"
    }
   ],
   "source": [
    "# Traitement des valeurs manquantes (vérification si elles existent).\n",
    "missing_values = data.isnull().sum()\n",
    "print(\"Valeurs manquantes par caractéristique :\\n\", missing_values)\n",
    "\n",
    "plt.figure(figsize=(20,10))\n",
    "sns.heatmap(data.isnull(), yticklabels=False, cbar=False, cmap='viridis')\n",
    "plt.show()"
   ]
  },
  {
   "cell_type": "markdown",
   "id": "f34f3870",
   "metadata": {},
   "source": [
    "On remarque que les colonnes \"label Art et Essai\" et \"programmateur\" contiennent beaucoup de valeur manquantes (respectivement 1192 et 854). Ensuite, nous avons aussi d'autre variable comme les part de marché qui possèdent des valeur manquantes.\n",
    "Pour éviter de polluer notre modèle, nous allons:\n",
    "- supprimer la colonne \"label Art et Essai\" car plus de 50% des valeurs de la colonnes sont manquantes\n",
    "- remplacer les valeurs manquantes des variables numérique par la médiane ou la moyenne\n",
    "- remplacer les valeurs manquantes des variables \"programmateur\" avec un algorithme KNN\n",
    "- supprimer la ligne avec l'adresse manquante car cela ne sera pas cohérents d'inventer 1 adresse ou de créer une adresse fictive qui pourrai fausser les résultats."
   ]
  },
  {
   "cell_type": "code",
   "execution_count": 183,
   "id": "8373cfa0",
   "metadata": {},
   "outputs": [
    {
     "data": {
      "text/plain": [
       "(2041, 39)"
      ]
     },
     "execution_count": 183,
     "metadata": {},
     "output_type": "execute_result"
    }
   ],
   "source": [
    "# suppression de la colonne \"label Art et Essai\"\n",
    "data=data.drop(columns=['label Art et Essai'],axis=1)\n",
    "# suppression de la ligne avec l'adresse null\n",
    "data=data[data['adresse'].notna()]\n",
    "\n",
    "#Vérification des suppressions\n",
    "data.shape"
   ]
  },
  {
   "cell_type": "markdown",
   "id": "2f43dad8",
   "metadata": {},
   "source": [
    "#### Convertion des données"
   ]
  },
  {
   "cell_type": "markdown",
   "id": "87eb365d",
   "metadata": {},
   "source": [
    "Avant de commencer à remplacer nos valeur manquantes, nous allons convertir nos données dans le type adéquats (texte, entier et décimal)"
   ]
  },
  {
   "cell_type": "code",
   "execution_count": 184,
   "id": "d2a95314",
   "metadata": {},
   "outputs": [],
   "source": [
    "def convertion(df, typ, *var):\n",
    "    \"\"\"\n",
    "    Fonction qui modifie le type des variables\n",
    "    \n",
    "    : param list data : les donnees\n",
    "    : return : les data avec le bon type pour chaque var\n",
    "    : rtype : list\n",
    "    \"\"\"\n",
    "    types = [\"str\",\"int\",\"float\"]\n",
    "    while typ not in types:\n",
    "        typ = input(\"Type non reconnu, merci de choisir entre \\\"str\\\", \\\"int\\\" ou \\\"float\\\" \\n►\")\n",
    "    for ele in var:\n",
    "        if typ == \"float\" and \"float\" not in str(df[ele].dtype):\n",
    "            df[ele] = df[ele].str.replace(\",\",\".\")\n",
    "            df[ele] = df[ele].astype(\"float\")\n",
    "        elif typ not in str(df[ele].dtype):\n",
    "            df[ele] = df[ele].astype(str(typ))\n",
    "    return df"
   ]
  },
  {
   "cell_type": "code",
   "execution_count": 185,
   "id": "f9be498d",
   "metadata": {},
   "outputs": [],
   "source": [
    "data = convertion(data, \"str\", 'N° auto','nom','adresse','région administrative','commune','code INSEE', 'DEP', 'unité urbaine', 'propriétaire','AE', 'catégorie Art et Essai','genre','multiplexe','geolocalisation',\"programmateur\")\n",
    "data = convertion(data, \"int\", 'population de la commune','population unité urbaine','écrans', 'fauteuils', \"semaines d'activité\",'séances','entrées 2020','entrées 2019', 'nombre de films programmés','nombre de films inédits','nombre de films en semaine 1')\n",
    "data = convertion(data, \"float\", 'évolution entrées', 'PdM en entrées des films français', 'PdM en entrées des films américains', 'PdM en entrées des films européens', 'PdM en entrées des autres films', 'PdM en entrées des films Art et Essai')"
   ]
  },
  {
   "cell_type": "code",
   "execution_count": 186,
   "id": "668ce215",
   "metadata": {},
   "outputs": [
    {
     "name": "stdout",
     "output_type": "stream",
     "text": [
      "N° auto: texte\n",
      "nom: texte\n",
      "région administrative: texte\n",
      "adresse: texte\n",
      "code INSEE: texte\n",
      "commune: texte\n",
      "population de la commune: Entier\n",
      "DEP: texte\n",
      "N°UU: texte\n",
      "unité urbaine: texte\n",
      "population unité urbaine: Entier\n",
      "situation géographique: texte\n",
      "écrans: Entier\n",
      "fauteuils: Entier\n",
      "semaines d'activité: Entier\n",
      "séances: Entier\n",
      "entrées 2020: Entier\n",
      "entrées 2019: Entier\n",
      "évolution entrées: décimal\n",
      "tranche d'entrées: texte\n",
      "propriétaire: texte\n",
      "programmateur: texte\n",
      "AE: texte\n",
      "catégorie Art et Essai: texte\n",
      "genre: texte\n",
      "multiplexe: texte\n",
      "zone de la commune: texte\n",
      "nombre de films programmés: Entier\n",
      "nombre de films inédits: Entier\n",
      "nombre de films en semaine 1: Entier\n",
      "PdM en entrées des films français: décimal\n",
      "PdM en entrées des films américains: décimal\n",
      "PdM en entrées des films européens: décimal\n",
      "PdM en entrées des autres films: décimal\n",
      "films Art et Essai: Entier\n",
      "PdM en entrées des films Art et Essai: décimal\n",
      "latitude: texte\n",
      "longitude: texte\n",
      "geolocalisation: texte\n"
     ]
    }
   ],
   "source": [
    "for col in data.columns:\n",
    "    if \"object\" in str(data[col].dtype):\n",
    "        print(f\"{col}: texte\")\n",
    "    elif \"int\" in str(data[col].dtype):\n",
    "        print(f\"{col}: Entier\")\n",
    "    elif \"float\" in str(data[col].dtype):\n",
    "        print(f\"{col}: décimal\")"
   ]
  },
  {
   "cell_type": "markdown",
   "id": "c9e7bf9c",
   "metadata": {},
   "source": [
    "#### Imputation des valeurs manquantes"
   ]
  },
  {
   "cell_type": "markdown",
   "id": "ebcdc3b9",
   "metadata": {},
   "source": [
    "##### Variables qualitatives"
   ]
  },
  {
   "cell_type": "markdown",
   "id": "b5b628c3",
   "metadata": {},
   "source": [
    "Nous avons remarqué que la variable programmateur contenait beaucoup de valeurs manquantes. Nous avons donc décider de remplacer ces valeurs nulles à l'aide d'un algorithmes KNN qui va déterminer notre programmateur par rapport au 5 plus proche voisin."
   ]
  },
  {
   "cell_type": "code",
   "execution_count": 187,
   "id": "59d5f1b1",
   "metadata": {},
   "outputs": [],
   "source": [
    "#Encodage de la variable\n",
    "le=LabelEncoder()\n",
    "data[\"programmateur_encoded\"]=le.fit_transform(data[\"programmateur\"])\n",
    "data.loc[data['programmateur'] == 'nan', 'programmateur_encoded'] = np.nan\n",
    "\n",
    "#Imputation\n",
    "imputer=KNNImputer(n_neighbors=5)\n",
    "data[\"programmateur_encoded\"]=imputer.fit_transform(np.array([data[\"programmateur_encoded\"]]).reshape(-1,1))\n",
    "data[\"programmateur_encoded\"]=round(data[\"programmateur_encoded\"],0)\n",
    "data['programmateur'] = le.inverse_transform(data['programmateur_encoded'].astype(\"int\"))\n",
    "data=data.drop(columns=[\"programmateur_encoded\"],axis=1)"
   ]
  },
  {
   "cell_type": "markdown",
   "id": "d2b0e2db",
   "metadata": {},
   "source": [
    "##### Variables quantitatives"
   ]
  },
  {
   "cell_type": "markdown",
   "id": "f77af7fb",
   "metadata": {},
   "source": [
    "Nous avons remarqué que les variables ci-dessous possédait des valeurs manquantes. Etant des variables de types numérique, nous avons choisi de remplacer les valeurs nulles par la médiane de cette variable."
   ]
  },
  {
   "cell_type": "code",
   "execution_count": 190,
   "id": "15c1e0e1",
   "metadata": {},
   "outputs": [],
   "source": [
    "missing_values2=data.isnull().sum()\n",
    "var_miss=list(missing_values2[missing_values2!=0].index)\n"
   ]
  },
  {
   "cell_type": "code",
   "execution_count": 191,
   "id": "e3b8822f",
   "metadata": {},
   "outputs": [
    {
     "name": "stdout",
     "output_type": "stream",
     "text": [
      "évolution entrées\n",
      "PdM en entrées des films français\n",
      "PdM en entrées des films américains\n",
      "PdM en entrées des films européens\n",
      "PdM en entrées des autres films\n",
      "PdM en entrées des films Art et Essai\n"
     ]
    }
   ],
   "source": [
    "for v in var_miss:\n",
    "    print(v)\n",
    "    data[v] = data[v].fillna(data[v].median())\n"
   ]
  },
  {
   "cell_type": "code",
   "execution_count": 192,
   "id": "5984a5a1",
   "metadata": {},
   "outputs": [
    {
     "name": "stdout",
     "output_type": "stream",
     "text": [
      "Valeurs manquantes par caractéristique :\n",
      " N° auto                                  0\n",
      "nom                                      0\n",
      "région administrative                    0\n",
      "adresse                                  0\n",
      "code INSEE                               0\n",
      "commune                                  0\n",
      "population de la commune                 0\n",
      "DEP                                      0\n",
      "N°UU                                     0\n",
      "unité urbaine                            0\n",
      "population unité urbaine                 0\n",
      "situation géographique                   0\n",
      "écrans                                   0\n",
      "fauteuils                                0\n",
      "semaines d'activité                      0\n",
      "séances                                  0\n",
      "entrées 2020                             0\n",
      "entrées 2019                             0\n",
      "évolution entrées                        0\n",
      "tranche d'entrées                        0\n",
      "propriétaire                             0\n",
      "programmateur                            0\n",
      "AE                                       0\n",
      "catégorie Art et Essai                   0\n",
      "genre                                    0\n",
      "multiplexe                               0\n",
      "zone de la commune                       0\n",
      "nombre de films programmés               0\n",
      "nombre de films inédits                  0\n",
      "nombre de films en semaine 1             0\n",
      "PdM en entrées des films français        0\n",
      "PdM en entrées des films américains      0\n",
      "PdM en entrées des films européens       0\n",
      "PdM en entrées des autres films          0\n",
      "films Art et Essai                       0\n",
      "PdM en entrées des films Art et Essai    0\n",
      "latitude                                 0\n",
      "longitude                                0\n",
      "geolocalisation                          0\n",
      "dtype: int64\n"
     ]
    },
    {
     "data": {
      "image/png": "[encoded data removed]",
      "text/plain": [
       "<Figure size 1440x720 with 1 Axes>"
      ]
     },
     "metadata": {
      "needs_background": "light"
     },
     "output_type": "display_data"
    }
   ],
   "source": [
    "# Traitement des valeurs manquantes (vérification si elles existent).\n",
    "missing_values = data.isnull().sum()\n",
    "print(\"Valeurs manquantes par caractéristique :\\n\", missing_values)\n",
    "\n",
    "plt.figure(figsize=(20,10))\n",
    "sns.heatmap(data.isna(), yticklabels=False, cbar=False, cmap='viridis')\n",
    "plt.show()"
   ]
  },
  {
   "cell_type": "markdown",
   "id": "fae03e34",
   "metadata": {},
   "source": [
    "### Analyse "
   ]
  },
  {
   "cell_type": "markdown",
   "id": "8834ee34",
   "metadata": {},
   "source": [
    "Dans cette partie, nous allons voir comment se comportent les variables de notre dataset. Nous allons d'abord les étuditer une part une, puis nous allons regarder les comparer entre afin de voir si certaines variables sont corrélées entre elles. "
   ]
  },
  {
   "cell_type": "markdown",
   "id": "8bba64b5",
   "metadata": {},
   "source": [
    "#### Analyse univarié"
   ]
  },
  {
   "cell_type": "markdown",
   "id": "7dd37070",
   "metadata": {},
   "source": [
    "Commençons par trier nos variables. Nous allons mettre d'un côté les variables qualitatives et de l'autre les variables quantitatives. Cette sépartation va nous permettre d'adapter nos analyses."
   ]
  },
  {
   "cell_type": "code",
   "execution_count": null,
   "id": "737ff11d",
   "metadata": {},
   "outputs": [],
   "source": [
    "def tri_var(df):\n",
    "  \"\"\"\n",
    "  Fonction qui sépare les variables qualitatives et quantitatives\n",
    "  Param: \n",
    "    - data (Dataframe): jeu de données initial\n",
    "  Return:\n",
    "    - quali (liste) : liste des variables qualitatives\n",
    "    - quanti (liste) :  liste des variables quantitatives\n",
    "  \"\"\"\n",
    "  quanti=[]\n",
    "  quali=[]\n",
    "  df_col=df.columns\n",
    "  for i in df_col:\n",
    "    if 'float' in str(df[i].dtypes) or \"int\" in str(df[i].dtype):\n",
    "      quanti.append(i)\n",
    "    else:\n",
    "      quali.append(i)\n",
    "\n",
    "  return quali,quanti"
   ]
  },
  {
   "cell_type": "code",
   "execution_count": 194,
   "id": "7cb92282",
   "metadata": {},
   "outputs": [
    {
     "name": "stdout",
     "output_type": "stream",
     "text": [
      "Variables qualitatives : \n",
      "\tN° auto\n",
      "\tnom\n",
      "\trégion administrative\n",
      "\tadresse\n",
      "\tcode INSEE\n",
      "\tcommune\n",
      "\tDEP\n",
      "\tN°UU\n",
      "\tunité urbaine\n",
      "\tsituation géographique\n",
      "\ttranche d'entrées\n",
      "\tpropriétaire\n",
      "\tprogrammateur\n",
      "\tAE\n",
      "\tcatégorie Art et Essai\n",
      "\tgenre\n",
      "\tmultiplexe\n",
      "\tzone de la commune\n",
      "\tlatitude\n",
      "\tlongitude\n",
      "\tgeolocalisation\n",
      "\n",
      "\n",
      "Variables quantitatives : \n",
      "\tpopulation de la commune\n",
      "\tpopulation unité urbaine\n",
      "\técrans\n",
      "\tfauteuils\n",
      "\tsemaines d'activité\n",
      "\tséances\n",
      "\tentrées 2020\n",
      "\tentrées 2019\n",
      "\tévolution entrées\n",
      "\tnombre de films programmés\n",
      "\tnombre de films inédits\n",
      "\tnombre de films en semaine 1\n",
      "\tPdM en entrées des films français\n",
      "\tPdM en entrées des films américains\n",
      "\tPdM en entrées des films européens\n",
      "\tPdM en entrées des autres films\n",
      "\tfilms Art et Essai\n",
      "\tPdM en entrées des films Art et Essai\n"
     ]
    }
   ],
   "source": [
    "var_quali, var_quanti = tri_var(data)\n",
    "print(\"Variables qualitatives : \")\n",
    "for v in var_quali:\n",
    "    print(f\"\\t{v}\")\n",
    "\n",
    "print(\"\\n\")\n",
    "\n",
    "print(\"Variables quantitatives : \")\n",
    "for v in var_quanti:\n",
    "    print(f\"\\t{v}\")"
   ]
  },
  {
   "cell_type": "markdown",
   "id": "9ed9e57b",
   "metadata": {},
   "source": [
    "#### Analyse bivariée"
   ]
  },
  {
   "cell_type": "code",
   "execution_count": null,
   "id": "c82c229d",
   "metadata": {},
   "outputs": [],
   "source": [
    "#Variables Quantitatives\n",
    "\n",
    "num_cols = data.select_dtypes(include=np.number).columns\n",
    "df_num = data[num_cols].dropna()\n",
    "\n",
    "# --- Matrice de covariance ---\n",
    "cov_matrix = df_num.cov()\n",
    "plt.figure(figsize=(10, 8))\n",
    "sns.heatmap(cov_matrix, annot=True, cmap='coolwarm')\n",
    "plt.title(\"Matrice de covariance\")\n",
    "plt.show()\n",
    "\n",
    "# --- Matrice de corrélation Pearson ---\n",
    "corr_pearson = df_num.corr(method='pearson')\n",
    "plt.figure(figsize=(10, 8))\n",
    "sns.heatmap(corr_pearson, annot=True, cmap='coolwarm', center=0)\n",
    "plt.title(\"Matrice de corrélation (Pearson)\")\n",
    "plt.show()\n",
    "\n",
    "# --- Matrice de corrélation Spearman ---\n",
    "corr_spearman = df_num.corr(method='spearman')\n",
    "plt.figure(figsize=(10, 8))\n",
    "sns.heatmap(corr_spearman, annot=True, cmap='coolwarm', center=0)\n",
    "plt.title(\"Matrice de corrélation (Spearman)\")\n",
    "plt.show()\n",
    "\n"
   ]
  },
  {
   "cell_type": "markdown",
   "id": "13730363",
   "metadata": {},
   "source": [
    "On constate de fortes corrélations dans cette matrice, à savoir entre les variables suivantes :\n",
    "Ecrans et fauteuils, écrans et séances, écrans et entrées, écrans et le nombre de films en semaine 1 (respectivement 0.95, 0.98, 0.88, 0.88).\n",
    "Séanes et fauteuils, séances et entrées, séances et nombre de films en semaine 1 (respectivement 0.93, 0.91, 0.88).\n",
    "Entrées et fauteuils (0.88).\n",
    "Nombre de films inédits et nombre de films programmés (0.9).\n",
    "Qui sont toutes > 0.85\n",
    "\n",
    "C'est à dire que si une des variables augmente l'autre augmente aussi, et vice-versa.\n",
    "Si une des variable diminue, l'autre diminue aussi.\n",
    "Ces variables sont donc l'une dépendante de l'autre."
   ]
  },
  {
   "cell_type": "code",
   "execution_count": null,
   "id": "d865f5b1",
   "metadata": {},
   "outputs": [],
   "source": [
    "from scipy.stats import chi2_contingency\n",
    "\n",
    "# Sélection des colonnes qualitatives\n",
    "cat_cols = data.select_dtypes(include=['object', 'category']).columns\n",
    "df_cat = data[cat_cols].dropna()\n",
    "\n",
    "# Initialisation des matrices\n",
    "pval_matrix = pd.DataFrame(np.ones((len(cat_cols), len(cat_cols))), index=cat_cols, columns=cat_cols)\n",
    "binary_matrix = pd.DataFrame(np.ones((len(cat_cols), len(cat_cols))), index=cat_cols, columns=cat_cols)\n",
    "\n",
    "# Remplissage des matrices\n",
    "for i, col1 in enumerate(cat_cols):\n",
    "    for j, col2 in enumerate(cat_cols):\n",
    "        if i >= j:\n",
    "            continue\n",
    "        contingency_table = pd.crosstab(df_cat[col1], df_cat[col2])\n",
    "        if contingency_table.shape[0] > 1 and contingency_table.shape[1] > 1:\n",
    "            try:\n",
    "                chi2, p, dof, ex = chi2_contingency(contingency_table)\n",
    "                pval_matrix.loc[col1, col2] = p\n",
    "                pval_matrix.loc[col2, col1] = p\n",
    "                binary_matrix.loc[col1, col2] = 0 if p < 0.05 else 1\n",
    "                binary_matrix.loc[col2, col1] = 0 if p < 0.05 else 1\n",
    "            except:\n",
    "                pval_matrix.loc[col1, col2] = np.nan\n",
    "                pval_matrix.loc[col2, col1] = np.nan\n",
    "                binary_matrix.loc[col1, col2] = np.nan\n",
    "                binary_matrix.loc[col2, col1] = np.nan\n",
    "\n",
    "# Palette binaire : 0 = bleu (dépendance), 1 = vert (indépendance)\n",
    "cmap = sns.color_palette([\"blue\", \"green\"])\n",
    "\n",
    "# Tracé de la heatmap avec p-values comme annotations\n",
    "plt.figure(figsize=(14, 12))\n",
    "sns.heatmap(binary_matrix, annot=pval_matrix.round(3), fmt=\".3f\", cmap=cmap,\n",
    "            linewidths=0.5, linecolor='grey', cbar=False)\n",
    "plt.title(\"Matrice du test du Chi² entre variables qualitatives\\n(bleu = dépendant, vert = indépendant)\", fontsize=14)\n",
    "plt.xticks(rotation=45, ha='right')\n",
    "plt.yticks(rotation=0)\n",
    "plt.tight_layout()\n",
    "plt.show()\n"
   ]
  },
  {
   "cell_type": "markdown",
   "id": "a11c28ed",
   "metadata": {},
   "source": [
    "Pour cette matrice nous nous sommes décidés à mettre 2 couleurs pour préciser si les variables sont dépendentes ou pas les unes des autres.\n",
    "Pour chaque croisement entre 2 variables où la couleur est verte, cela veut dire que les variables ne sont pas dépendentes l'une de l'autre. Contrairement à la couleur bleue où cela veut dire qu'il y a une association significative entre les variables et qu'elles sont donc dépendentes l'une de l'autre."
   ]
  },
  {
   "cell_type": "code",
   "execution_count": null,
   "id": "1fcf4c24",
   "metadata": {},
   "outputs": [],
   "source": [
    "from scipy.stats import f_oneway\n",
    "\n",
    "def eta_squared(y, classes):\n",
    "    \"\"\"\n",
    "    Calcule l'eta² (variance expliquée) entre une variable quantitative (y)\n",
    "    et une variable qualitative (classes).\n",
    "    \"\"\"\n",
    "    classes_unique = np.unique(classes)\n",
    "    y_mean = np.mean(y)\n",
    "    ss_total = np.sum((y - y_mean) ** 2)\n",
    "\n",
    "    ss_between = sum([\n",
    "        len(y[classes == group]) * (np.mean(y[classes == group]) - y_mean) ** 2\n",
    "        for group in classes_unique\n",
    "    ])\n",
    "\n",
    "    return ss_between / ss_total if ss_total != 0 else np.nan\n",
    "\n",
    "def eta_squared_matrix(data, qualitatifs, quantitatifs):\n",
    "    matrix = pd.DataFrame(index=qualitatifs, columns=quantitatifs)\n",
    "\n",
    "    for qual in qualitatifs:\n",
    "        for quant in quantitatifs:\n",
    "            try:\n",
    "                eta2 = eta_squared(data[quant].values, data[qual].values)\n",
    "                matrix.loc[qual, quant] = eta2\n",
    "            except Exception as e:\n",
    "                print(f\"Erreur pour {qual} vs {quant} : {e}\")\n",
    "                matrix.loc[qual, quant] = np.nan\n",
    "\n",
    "    return matrix.astype(float)\n",
    "\n",
    "# Prétraitement : garder uniquement les lignes sans NA\n",
    "data_clean = data.dropna(subset=cat_cols.union(num_cols))\n",
    "\n",
    "# Variables\n",
    "num_cols = data.select_dtypes(include=np.number).columns\n",
    "cat_cols = data.select_dtypes(include=['object', 'category']).columns\n",
    "\n",
    "quantitatives = num_cols.tolist()\n",
    "qualitatives = cat_cols.tolist()\n",
    "\n",
    "# Calcul matrice Eta²\n",
    "eta2_mat = eta_squared_matrix(data_clean, qualitatifs=qualitatives, quantitatifs=quantitatives)\n",
    "\n",
    "# Visualisation\n",
    "plt.figure(figsize=(14, 8))\n",
    "sns.heatmap(eta2_mat, annot=True, fmt=\".2f\", cmap=\"YlOrRd\", cbar_kws={'label': 'Eta²'})\n",
    "plt.title(\"Matrice Eta² : relation entre variables qualitatives et quantitatives\")\n",
    "plt.xticks(rotation=45, ha='right')\n",
    "plt.tight_layout()\n",
    "plt.show()\n"
   ]
  },
  {
   "cell_type": "markdown",
   "id": "ba694660",
   "metadata": {},
   "source": [
    "La grande majorité des variables quantitaives sont expliquées par la variable qualitatives qu'est l'adresse. A savoir que la valeur est &ge; 0.90.\n",
    "Les autres variables qualitatives qui expliquent à peu près la plupart des variables quantitatives sont le code INSEE, la commune et le propriétaire ainsi que le nom. Le code INSEE et la commune partagent à peu près les mêmes valeurs l'une avec l'autre et donc explique les variables quantitatives au même degré.\n",
    "Les valeurs sont supérieures à 0.70 pour la plupart, sauf pour quelques exceptions.\n",
    "\n",
    "Tant que les valeurs sont supérieures les liens entre la variable qualitative et la variable quantitative sont forts."
   ]
  },
  {
   "cell_type": "markdown",
   "id": "ffd771ca",
   "metadata": {},
   "source": [
    "### Préparation à la modélisation"
   ]
  },
  {
   "cell_type": "markdown",
   "id": "0d4abfb5",
   "metadata": {},
   "source": [
    "#### Encodage des variables"
   ]
  },
  {
   "cell_type": "code",
   "execution_count": null,
   "id": "d741503c",
   "metadata": {},
   "outputs": [],
   "source": [
    "# Encodage ordinal de toutes les variables qualitatives\n",
    "cat_cols = data.select_dtypes(include=['object', 'category']).columns\n",
    "data_encoded = data.copy()\n",
    "\n",
    "for col in cat_cols:\n",
    "    data_encoded[col] = data[col].astype('category').cat.codes"
   ]
  },
  {
   "cell_type": "markdown",
   "id": "e6c60016",
   "metadata": {},
   "source": [
    "#### Sélection des variables"
   ]
  },
  {
   "cell_type": "markdown",
   "id": "86239cf2",
   "metadata": {},
   "source": [
    "Après avoir analysé les matrices précédentes, nous avons choisi les variables suivantes grâce à leur fortes corrélations avec la variable cible qui est donc les entrées 2020.\n",
    "Ecrans, fauteuils, séances, nom, tranche d'entrées, propriétaire ainsi que la commune.\n",
    "\n",
    "**Remarque :** nous avons décidé de ne pas prendre en compte la variable adresse pour éviter les risques de surapprentissage."
   ]
  },
  {
   "cell_type": "markdown",
   "id": "4ea5460d",
   "metadata": {},
   "source": [
    "#### Tests statistiques"
   ]
  },
  {
   "cell_type": "code",
   "execution_count": null,
   "id": "2cc02c0e",
   "metadata": {},
   "outputs": [],
   "source": [
    "from sklearn.model_selection import train_test_split\n",
    "\n",
    "# Supposons que 'data' est ton DataFrame et 'target' est la colonne à prédire\n",
    "X = data.drop(columns='entrées 2020')\n",
    "y = data['entrées 2020']\n",
    "\n",
    "# Découpage en train/test (80% train, 20% test)\n",
    "X_train, X_test, y_train, y_test = train_test_split(X, y, test_size=0.2, random_state=42)\n"
   ]
  },
  {
   "cell_type": "code",
   "execution_count": null,
   "id": "524e3766",
   "metadata": {},
   "outputs": [],
   "source": [
    "X_train"
   ]
  },
  {
   "cell_type": "code",
   "execution_count": null,
   "id": "dca3447d",
   "metadata": {},
   "outputs": [],
   "source": [
    "y_train"
   ]
  },
  {
   "cell_type": "markdown",
   "id": "1959d049",
   "metadata": {},
   "source": [
    "Nous avons On peut donc faire une régression linéaire vu que les variables sont indépendantes l'une de l'autre mais sont dépendantes de la variable cible.\n",
    "\n",
    "Les variables choisies sont telles :\n",
    "\n",
    "*   Fauteuils\n",
    "*   Séances\n",
    "*   Nombre de films en semaine 1\n",
    "*   Nom\n",
    "*   Commune\n",
    "*   Tranches d'entrées\n",
    "\n"
   ]
  },
  {
   "cell_type": "markdown",
   "id": "a990318b",
   "metadata": {},
   "source": [
    "### Modélisation"
   ]
  },
  {
   "cell_type": "markdown",
   "id": "eca10b28",
   "metadata": {},
   "source": [
    "#### Création du modèle"
   ]
  },
  {
   "cell_type": "markdown",
   "id": "1877d3aa",
   "metadata": {},
   "source": [
    "#### Evaluation du modèle"
   ]
  },
  {
   "cell_type": "markdown",
   "id": "7ea850b6",
   "metadata": {},
   "source": [
    "### Optimisation du modèle (si nécessaire)"
   ]
  },
  {
   "cell_type": "markdown",
   "id": "2cdf8b07",
   "metadata": {},
   "source": [
    "#### Transformation des variables"
   ]
  },
  {
   "cell_type": "markdown",
   "id": "405318c9",
   "metadata": {},
   "source": [
    "#### Création du modèle"
   ]
  },
  {
   "cell_type": "markdown",
   "id": "aa1d2d0b",
   "metadata": {},
   "source": [
    "#### Evaluation du modèle"
   ]
  },
  {
   "cell_type": "code",
   "execution_count": null,
   "id": "3ad434dd",
   "metadata": {},
   "outputs": [],
   "source": []
  }
 ],
 "metadata": {
  "kernelspec": {
   "display_name": "base",
   "language": "python",
   "name": "python3"
  },
  "language_info": {
   "codemirror_mode": {
    "name": "ipython",
    "version": 3
   },
   "file_extension": ".py",
   "mimetype": "text/x-python",
   "name": "python",
   "nbconvert_exporter": "python",
   "pygments_lexer": "ipython3",
   "version": "3.8.8"
  }
 },
 "nbformat": 4,
 "nbformat_minor": 5
}
