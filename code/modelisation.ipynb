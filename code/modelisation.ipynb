{
 "cells": [
  {
   "cell_type": "markdown",
   "id": "3d3e31dad1c49a7e",
   "metadata": {},
   "source": [
    "# Etude Statistique"
   ]
  },
  {
   "cell_type": "markdown",
   "id": "4fafd9352d3ef3b7",
   "metadata": {},
   "source": [
    "Problématique: Prédiction des entrées dans les cinémas français"
   ]
  },
  {
   "cell_type": "markdown",
   "id": "c0ea3bd79f8ceeef",
   "metadata": {},
   "source": [
    "Auteur:\n",
    "- Boukharfien Zainab\n",
    "- Houssoy Adrien\n",
    "- Hurdebourcq Paul"
   ]
  },
  {
   "cell_type": "markdown",
   "id": "a2667eab9e2b7f87",
   "metadata": {},
   "source": [
    "Contexte: Nous cherchons à prédire le nombre d'entrées d'un cinéma sur l'année 2020 à l'aide de différentes variables caractéristiques.\n"
   ]
  },
  {
   "cell_type": "markdown",
   "id": "5b1fcfc47941e8dc",
   "metadata": {},
   "source": [
    "## Installation et découverte de l'environement de travail"
   ]
  },
  {
   "cell_type": "markdown",
   "id": "ac49c7e8f845b747",
   "metadata": {},
   "source": [
    "### Importations des bibliothèques"
   ]
  },
  {
   "cell_type": "code",
   "execution_count": 7,
   "id": "def8509d34229df6",
   "metadata": {
    "ExecuteTime": {
     "end_time": "2025-02-25T17:51:10.446651Z",
     "start_time": "2025-02-25T17:51:10.426993Z"
    }
   },
   "outputs": [],
   "source": [
    "import numpy as np\n",
    "import pandas as pd\n",
    "import matplotlib.pyplot as plt"
   ]
  },
  {
   "cell_type": "markdown",
   "id": "754d2f221edb2427",
   "metadata": {},
   "source": [
    "### Importation des données"
   ]
  },
  {
   "cell_type": "code",
   "execution_count": 8,
   "id": "initial_id",
   "metadata": {
    "ExecuteTime": {
     "end_time": "2025-02-25T17:58:56.433525Z",
     "start_time": "2025-02-25T17:58:56.360416Z"
    },
    "collapsed": true
   },
   "outputs": [
    {
     "data": {
      "text/html": [
       "<div>\n",
       "<style scoped>\n",
       "    .dataframe tbody tr th:only-of-type {\n",
       "        vertical-align: middle;\n",
       "    }\n",
       "\n",
       "    .dataframe tbody tr th {\n",
       "        vertical-align: top;\n",
       "    }\n",
       "\n",
       "    .dataframe thead th {\n",
       "        text-align: right;\n",
       "    }\n",
       "</style>\n",
       "<table border=\"1\" class=\"dataframe\">\n",
       "  <thead>\n",
       "    <tr style=\"text-align: right;\">\n",
       "      <th></th>\n",
       "      <th>N° auto</th>\n",
       "      <th>nom</th>\n",
       "      <th>région administrative</th>\n",
       "      <th>adresse</th>\n",
       "      <th>code INSEE</th>\n",
       "      <th>commune</th>\n",
       "      <th>population de la commune</th>\n",
       "      <th>DEP</th>\n",
       "      <th>N°UU</th>\n",
       "      <th>unité urbaine</th>\n",
       "      <th>...</th>\n",
       "      <th>nombre de films en semaine 1</th>\n",
       "      <th>PdM en entrées des films français</th>\n",
       "      <th>PdM en entrées des films américains</th>\n",
       "      <th>PdM en entrées des films européens</th>\n",
       "      <th>PdM en entrées des autres films</th>\n",
       "      <th>films Art et Essai</th>\n",
       "      <th>PdM en entrées des films Art et Essai</th>\n",
       "      <th>latitude</th>\n",
       "      <th>longitude</th>\n",
       "      <th>geolocalisation</th>\n",
       "    </tr>\n",
       "  </thead>\n",
       "  <tbody>\n",
       "    <tr>\n",
       "      <th>0</th>\n",
       "      <td>55</td>\n",
       "      <td>ELYSEES LINCOLN</td>\n",
       "      <td>ILE-DE-FRANCE</td>\n",
       "      <td>14 RUE LINCOLN</td>\n",
       "      <td>75108</td>\n",
       "      <td>Paris 8e Arrondissement</td>\n",
       "      <td>36694</td>\n",
       "      <td>75</td>\n",
       "      <td>851</td>\n",
       "      <td>Paris</td>\n",
       "      <td>...</td>\n",
       "      <td>53</td>\n",
       "      <td>48,82847702</td>\n",
       "      <td>5,617302493</td>\n",
       "      <td>26,36427356</td>\n",
       "      <td>19,18994693</td>\n",
       "      <td>61</td>\n",
       "      <td>87,62891759</td>\n",
       "      <td>48,870512</td>\n",
       "      <td>2,303157</td>\n",
       "      <td>48,870512,2,303157</td>\n",
       "    </tr>\n",
       "    <tr>\n",
       "      <th>1</th>\n",
       "      <td>204</td>\n",
       "      <td>UGC OPERA</td>\n",
       "      <td>ILE-DE-FRANCE</td>\n",
       "      <td>32 BD DES ITALIENS</td>\n",
       "      <td>75109</td>\n",
       "      <td>Paris 9e Arrondissement</td>\n",
       "      <td>59408</td>\n",
       "      <td>75</td>\n",
       "      <td>851</td>\n",
       "      <td>Paris</td>\n",
       "      <td>...</td>\n",
       "      <td>41</td>\n",
       "      <td>47,16468714</td>\n",
       "      <td>42,30156431</td>\n",
       "      <td>10,49210603</td>\n",
       "      <td>0,041642526</td>\n",
       "      <td>33</td>\n",
       "      <td>53,34226535</td>\n",
       "      <td>48,871332</td>\n",
       "      <td>2,335302</td>\n",
       "      <td>48,871332,2,335302</td>\n",
       "    </tr>\n",
       "    <tr>\n",
       "      <th>2</th>\n",
       "      <td>301</td>\n",
       "      <td>MAX LINDER</td>\n",
       "      <td>ILE-DE-FRANCE</td>\n",
       "      <td>24 BD POISSONNIERE</td>\n",
       "      <td>75109</td>\n",
       "      <td>Paris 9e Arrondissement</td>\n",
       "      <td>59408</td>\n",
       "      <td>75</td>\n",
       "      <td>851</td>\n",
       "      <td>Paris</td>\n",
       "      <td>...</td>\n",
       "      <td>8</td>\n",
       "      <td>6,97058738</td>\n",
       "      <td>49,98399907</td>\n",
       "      <td>35,58607046</td>\n",
       "      <td>7,459343089</td>\n",
       "      <td>64</td>\n",
       "      <td>53,67294097</td>\n",
       "      <td>48,871363</td>\n",
       "      <td>2,344886</td>\n",
       "      <td>48,871363,2,344886</td>\n",
       "    </tr>\n",
       "    <tr>\n",
       "      <th>3</th>\n",
       "      <td>451</td>\n",
       "      <td>UGC MONTPARNASSE</td>\n",
       "      <td>ILE-DE-FRANCE</td>\n",
       "      <td>83 BD DU MONTPARNASSE</td>\n",
       "      <td>75106</td>\n",
       "      <td>Paris 6e Arrondissement</td>\n",
       "      <td>42428</td>\n",
       "      <td>75</td>\n",
       "      <td>851</td>\n",
       "      <td>Paris</td>\n",
       "      <td>...</td>\n",
       "      <td>63</td>\n",
       "      <td>43,58109209</td>\n",
       "      <td>38,32192339</td>\n",
       "      <td>15,69030155</td>\n",
       "      <td>2,406682967</td>\n",
       "      <td>45</td>\n",
       "      <td>39,64221679</td>\n",
       "      <td>48,84351</td>\n",
       "      <td>2,325646</td>\n",
       "      <td>48,84351,2,325646</td>\n",
       "    </tr>\n",
       "    <tr>\n",
       "      <th>4</th>\n",
       "      <td>731</td>\n",
       "      <td>MK2 ODEON COTE SAINT-GERMAIN</td>\n",
       "      <td>ILE-DE-FRANCE</td>\n",
       "      <td>113 BD ST GERMAIN</td>\n",
       "      <td>75106</td>\n",
       "      <td>Paris 6e Arrondissement</td>\n",
       "      <td>42428</td>\n",
       "      <td>75</td>\n",
       "      <td>851</td>\n",
       "      <td>Paris</td>\n",
       "      <td>...</td>\n",
       "      <td>58</td>\n",
       "      <td>55,90664627</td>\n",
       "      <td>24,3213105</td>\n",
       "      <td>13,33991217</td>\n",
       "      <td>6,43213105</td>\n",
       "      <td>48</td>\n",
       "      <td>68,84195984</td>\n",
       "      <td>48,852437</td>\n",
       "      <td>2,338266</td>\n",
       "      <td>48,852437,2,338266</td>\n",
       "    </tr>\n",
       "  </tbody>\n",
       "</table>\n",
       "<p>5 rows × 40 columns</p>\n",
       "</div>"
      ],
      "text/plain": [
       "   N° auto                           nom région administrative  \\\n",
       "0       55               ELYSEES LINCOLN         ILE-DE-FRANCE   \n",
       "1      204                     UGC OPERA         ILE-DE-FRANCE   \n",
       "2      301                    MAX LINDER         ILE-DE-FRANCE   \n",
       "3      451              UGC MONTPARNASSE         ILE-DE-FRANCE   \n",
       "4      731  MK2 ODEON COTE SAINT-GERMAIN         ILE-DE-FRANCE   \n",
       "\n",
       "                 adresse code INSEE                  commune  \\\n",
       "0         14 RUE LINCOLN      75108  Paris 8e Arrondissement   \n",
       "1     32 BD DES ITALIENS      75109  Paris 9e Arrondissement   \n",
       "2     24 BD POISSONNIERE      75109  Paris 9e Arrondissement   \n",
       "3  83 BD DU MONTPARNASSE      75106  Paris 6e Arrondissement   \n",
       "4      113 BD ST GERMAIN      75106  Paris 6e Arrondissement   \n",
       "\n",
       "   population de la commune DEP N°UU unité urbaine  ...  \\\n",
       "0                     36694  75  851         Paris  ...   \n",
       "1                     59408  75  851         Paris  ...   \n",
       "2                     59408  75  851         Paris  ...   \n",
       "3                     42428  75  851         Paris  ...   \n",
       "4                     42428  75  851         Paris  ...   \n",
       "\n",
       "   nombre de films en semaine 1 PdM en entrées des films français  \\\n",
       "0                            53                       48,82847702   \n",
       "1                            41                       47,16468714   \n",
       "2                             8                        6,97058738   \n",
       "3                            63                       43,58109209   \n",
       "4                            58                       55,90664627   \n",
       "\n",
       "   PdM en entrées des films américains  PdM en entrées des films européens  \\\n",
       "0                          5,617302493                         26,36427356   \n",
       "1                          42,30156431                         10,49210603   \n",
       "2                          49,98399907                         35,58607046   \n",
       "3                          38,32192339                         15,69030155   \n",
       "4                           24,3213105                         13,33991217   \n",
       "\n",
       "   PdM en entrées des autres films  films Art et Essai  \\\n",
       "0                      19,18994693                  61   \n",
       "1                      0,041642526                  33   \n",
       "2                      7,459343089                  64   \n",
       "3                      2,406682967                  45   \n",
       "4                       6,43213105                  48   \n",
       "\n",
       "   PdM en entrées des films Art et Essai   latitude longitude  \\\n",
       "0                            87,62891759  48,870512  2,303157   \n",
       "1                            53,34226535  48,871332  2,335302   \n",
       "2                            53,67294097  48,871363  2,344886   \n",
       "3                            39,64221679   48,84351  2,325646   \n",
       "4                            68,84195984  48,852437  2,338266   \n",
       "\n",
       "      geolocalisation  \n",
       "0  48,870512,2,303157  \n",
       "1  48,871332,2,335302  \n",
       "2  48,871363,2,344886  \n",
       "3   48,84351,2,325646  \n",
       "4  48,852437,2,338266  \n",
       "\n",
       "[5 rows x 40 columns]"
      ]
     },
     "execution_count": 8,
     "metadata": {},
     "output_type": "execute_result"
    }
   ],
   "source": [
    "data=pd.read_csv(\"../cinematographiques-propre.csv\",sep=';',encoding='ANSI')\n",
    "data.head()"
   ]
  },
  {
   "cell_type": "markdown",
   "id": "b1b22f53",
   "metadata": {},
   "source": [
    "### Présentation du jeu de données"
   ]
  },
  {
   "cell_type": "code",
   "execution_count": 9,
   "id": "19918ae27ed287c6",
   "metadata": {},
   "outputs": [
    {
     "name": "stdout",
     "output_type": "stream",
     "text": [
      "Nombre de cinéma étudiées: 2042\n",
      "Nombre de caractéristiques (variable): 40\n"
     ]
    }
   ],
   "source": [
    "print(f\"Nombre de cinéma étudiées: {data.shape[0]}\")\n",
    "print(f\"Nombre de caractéristiques (variable): {data.shape[1]}\")"
   ]
  },
  {
   "cell_type": "markdown",
   "id": "5400e4a6",
   "metadata": {},
   "source": [
    "Le jeu de données dont nous disposons regroupe l'activité des cinémas français en 2020. Nous disposons d'une liste de 2042 cinéma et de 40 variables caractéristiques sur les performances du cinéma.\n",
    "Les variables sont les suivantes:\n",
    "\n",
    "- N° auto = Identifiant du cinéma\n",
    "- nom = Nom du cinéma\n",
    "- région administrative = Nom de la région\n",
    "- adresse = Adresse du cinéma\n",
    "- code INSEE = code insee du cinéma\n",
    "- commune = Commune du cinéma\n",
    "- population de la commune = Population de la commune du cinéma\n",
    "- DEP = Numéro de département\n",
    "- N°UU = Numéro de l'unité urbaine du cinéma\n",
    "- unité urbaine = Unité urbaine du cinéma\n",
    "- population unité urbaine = Population de l'unité urbaine du cinéma\n",
    "- situation géographique = Localisation du cinéma\n",
    "- écrans = Nombre d'écran dans le cinéma\n",
    "- fauteuils = Nombre de fauteuils dans le cinéma\n",
    "- semaines d'activité = Nombres de semaines où le cinéma a été ouvert\n",
    "- séances = Nombre de séance du cinéma\n",
    "- entrées 2020 = Nombres d'entrées en 2020\n",
    "- entrées 2019 = Nombre d'entrée en 2019\n",
    "- évolution entrées = Evolution des entrées entre 2019 et 2020\n",
    "- tranche d'entrées = tranche du nombre d'entrée en 2020\n",
    "- propriétaire = Nom du propriétaire du cinéma\n",
    "- programmateur = Nom du programmateur des films diffusées\n",
    "- AE = appartenance à la catégorie art et essai\n",
    "- catégorie Art et Essai = catégorie des films art et essais\n",
    "- label Art et Essai = label des film art et essai\n",
    "- genre = mobilité du cinéma (fixe ou itinérant)\n",
    "- multiplexe = appartenance à un multiplexe (oui/non)\n",
    "- zone de la commune = zone de la comune du cinéma\n",
    "- nombre de films programmés = Nombre de film programmé par le cinéma\n",
    "- nombre de films inédits = nombre de film inédit diffusé\n",
    "- nombre de films en semaine 1 = nombre de film en semaine 1 diffusé\n",
    "- PdM en entrées des films français = part de marché des films français dans le cinéma\n",
    "- PdM en entrées des films américains = part de marché des films américains dans le cinéma\n",
    "- PdM en entrées des films européens = part de marché des films européens dans le cinéma\n",
    "- PdM en entrées des autres films = part de marché des autres films dans le cinéma\n",
    "- films Art et Essai = nombre de film art et essaie diffusé\n",
    "- PdM en entrées des films Art et Essai = part de marché des films art et essai dans le cinéma\n",
    "- latitude = latitude geographique du cinéma\n",
    "- longitude = longitude geographqiue du cinéma\n",
    "- geolocalisation = coordonnées geographique du cinéma\n",
    "\n"
   ]
  },
  {
   "cell_type": "markdown",
   "id": "de76be0d",
   "metadata": {},
   "source": [
    " ## Analyse exploiratoire"
   ]
  },
  {
   "cell_type": "markdown",
   "id": "bae1b66c",
   "metadata": {},
   "source": [
    "### Pré-traitement"
   ]
  },
  {
   "cell_type": "code",
   "execution_count": null,
   "id": "9473a60c",
   "metadata": {},
   "outputs": [],
   "source": []
  },
  {
   "cell_type": "code",
   "execution_count": 15,
   "id": "d2a95314",
   "metadata": {},
   "outputs": [],
   "source": [
    "def convertion(data, typ, *var):\n",
    "    \"\"\"\n",
    "    Fonction qui modifie le type des variables\n",
    "    \n",
    "    : param list data : les donnees\n",
    "    : return : les data avec le bon type pour chaque var\n",
    "    : rtype : list\n",
    "    \"\"\"\n",
    "    types = [\"str\",\"int\",\"float\"]\n",
    "    while typ not in types:\n",
    "        typ = input(\"Type non reconnu, merci de choisir entre \\\"str\\\", \\\"int\\\" ou \\\"float\\\" \\n►\")\n",
    "    for ele in var:\n",
    "        if typ == \"str\":\n",
    "            for i in range(1, len(data)):\n",
    "                data[i][index] = str(data[i][index])\n",
    "        if typ == \"int\":\n",
    "            for i in range(1, len(data)):\n",
    "                data[i][index] = int(data[i][index])\n",
    "        if typ == \"float\":\n",
    "            for i in range(1, len(data)):\n",
    "                data[i][index] = float(data[i][index])\n",
    "    return data"
   ]
  },
  {
   "cell_type": "code",
   "execution_count": 16,
   "id": "f9be498d",
   "metadata": {},
   "outputs": [
    {
     "ename": "KeyError",
     "evalue": "1",
     "output_type": "error",
     "traceback": [
      "\u001b[1;31m---------------------------------------------------------------------------\u001b[0m",
      "\u001b[1;31mKeyError\u001b[0m                                  Traceback (most recent call last)",
      "\u001b[1;32mc:\\Users\\adrie\\anaconda3\\lib\\site-packages\\pandas\\core\\indexes\\base.py\u001b[0m in \u001b[0;36mget_loc\u001b[1;34m(self, key, method, tolerance)\u001b[0m\n\u001b[0;32m   3079\u001b[0m             \u001b[1;32mtry\u001b[0m\u001b[1;33m:\u001b[0m\u001b[1;33m\u001b[0m\u001b[1;33m\u001b[0m\u001b[0m\n\u001b[1;32m-> 3080\u001b[1;33m                 \u001b[1;32mreturn\u001b[0m \u001b[0mself\u001b[0m\u001b[1;33m.\u001b[0m\u001b[0m_engine\u001b[0m\u001b[1;33m.\u001b[0m\u001b[0mget_loc\u001b[0m\u001b[1;33m(\u001b[0m\u001b[0mcasted_key\u001b[0m\u001b[1;33m)\u001b[0m\u001b[1;33m\u001b[0m\u001b[1;33m\u001b[0m\u001b[0m\n\u001b[0m\u001b[0;32m   3081\u001b[0m             \u001b[1;32mexcept\u001b[0m \u001b[0mKeyError\u001b[0m \u001b[1;32mas\u001b[0m \u001b[0merr\u001b[0m\u001b[1;33m:\u001b[0m\u001b[1;33m\u001b[0m\u001b[1;33m\u001b[0m\u001b[0m\n",
      "\u001b[1;32mpandas\\_libs\\index.pyx\u001b[0m in \u001b[0;36mpandas._libs.index.IndexEngine.get_loc\u001b[1;34m()\u001b[0m\n",
      "\u001b[1;32mpandas\\_libs\\index.pyx\u001b[0m in \u001b[0;36mpandas._libs.index.IndexEngine.get_loc\u001b[1;34m()\u001b[0m\n",
      "\u001b[1;32mpandas\\_libs\\hashtable_class_helper.pxi\u001b[0m in \u001b[0;36mpandas._libs.hashtable.PyObjectHashTable.get_item\u001b[1;34m()\u001b[0m\n",
      "\u001b[1;32mpandas\\_libs\\hashtable_class_helper.pxi\u001b[0m in \u001b[0;36mpandas._libs.hashtable.PyObjectHashTable.get_item\u001b[1;34m()\u001b[0m\n",
      "\u001b[1;31mKeyError\u001b[0m: 1",
      "\nThe above exception was the direct cause of the following exception:\n",
      "\u001b[1;31mKeyError\u001b[0m                                  Traceback (most recent call last)",
      "\u001b[1;32m<ipython-input-16-f37b9b25a8e6>\u001b[0m in \u001b[0;36m<module>\u001b[1;34m\u001b[0m\n\u001b[1;32m----> 1\u001b[1;33m \u001b[0mdata\u001b[0m \u001b[1;33m=\u001b[0m \u001b[0mconvertion\u001b[0m\u001b[1;33m(\u001b[0m\u001b[0mdata\u001b[0m\u001b[1;33m,\u001b[0m \u001b[1;34m\"str\"\u001b[0m\u001b[1;33m,\u001b[0m \u001b[1;34m'Numéro_Auto'\u001b[0m\u001b[1;33m,\u001b[0m\u001b[1;34m'Nom'\u001b[0m\u001b[1;33m,\u001b[0m\u001b[1;34m'Adresse'\u001b[0m\u001b[1;33m,\u001b[0m\u001b[1;34m'Région Admnistratives'\u001b[0m\u001b[1;33m,\u001b[0m\u001b[1;34m'Commune'\u001b[0m\u001b[1;33m,\u001b[0m\u001b[1;34m'N°INSEE'\u001b[0m\u001b[1;33m,\u001b[0m \u001b[1;34m'Departement'\u001b[0m\u001b[1;33m,\u001b[0m \u001b[1;34m'Nom Unité urbaine'\u001b[0m\u001b[1;33m,\u001b[0m \u001b[1;34m'propriétaire_cinéma'\u001b[0m\u001b[1;33m,\u001b[0m\u001b[1;34m'Art_et_essai'\u001b[0m\u001b[1;33m,\u001b[0m \u001b[1;34m'cat_art-essaie'\u001b[0m\u001b[1;33m,\u001b[0m\u001b[1;34m'label_art-essaie'\u001b[0m\u001b[1;33m,\u001b[0m\u001b[1;34m'mobilité'\u001b[0m\u001b[1;33m,\u001b[0m\u001b[1;34m'multiplexe'\u001b[0m\u001b[1;33m,\u001b[0m\u001b[1;34m'coordonnée_geo'\u001b[0m\u001b[1;33m,\u001b[0m\u001b[1;34m\"programmateur\"\u001b[0m\u001b[1;33m)\u001b[0m\u001b[1;33m\u001b[0m\u001b[1;33m\u001b[0m\u001b[0m\n\u001b[0m\u001b[0;32m      2\u001b[0m \u001b[0mdata\u001b[0m \u001b[1;33m=\u001b[0m \u001b[0mconvertion\u001b[0m\u001b[1;33m(\u001b[0m\u001b[0mdata\u001b[0m\u001b[1;33m,\u001b[0m \u001b[1;34m\"int\"\u001b[0m\u001b[1;33m,\u001b[0m \u001b[1;34m'Population'\u001b[0m\u001b[1;33m,\u001b[0m\u001b[1;34m'Population Unité urbaine'\u001b[0m\u001b[1;33m,\u001b[0m\u001b[1;34m'Ecran'\u001b[0m\u001b[1;33m,\u001b[0m \u001b[1;34m'Nb_Fauteuils'\u001b[0m\u001b[1;33m,\u001b[0m \u001b[1;34m'Nb_semaines_ouvertes'\u001b[0m\u001b[1;33m,\u001b[0m\u001b[1;34m'Nb_Séance'\u001b[0m\u001b[1;33m,\u001b[0m\u001b[1;34m'Nb_Entrées-2020'\u001b[0m\u001b[1;33m,\u001b[0m\u001b[1;34m'Nb_Entrées-2019'\u001b[0m\u001b[1;33m,\u001b[0m \u001b[1;34m'nb_programmation'\u001b[0m\u001b[1;33m,\u001b[0m\u001b[1;34m'nb_films_inédit'\u001b[0m\u001b[1;33m,\u001b[0m\u001b[1;34m'nb_sem1'\u001b[0m\u001b[1;33m)\u001b[0m\u001b[1;33m\u001b[0m\u001b[1;33m\u001b[0m\u001b[0m\n\u001b[0;32m      3\u001b[0m \u001b[0mdata\u001b[0m \u001b[1;33m=\u001b[0m \u001b[0mconvertion\u001b[0m\u001b[1;33m(\u001b[0m\u001b[0mdata\u001b[0m\u001b[1;33m,\u001b[0m \u001b[1;34m\"float\"\u001b[0m\u001b[1;33m,\u001b[0m \u001b[1;34m'Evolution_entrees'\u001b[0m\u001b[1;33m,\u001b[0m \u001b[1;34m'pdm_film_fr'\u001b[0m\u001b[1;33m,\u001b[0m \u001b[1;34m'pdm_film_US'\u001b[0m\u001b[1;33m,\u001b[0m \u001b[1;34m'pdm_film_UE'\u001b[0m\u001b[1;33m,\u001b[0m \u001b[1;34m'pdm_film_autres'\u001b[0m\u001b[1;33m,\u001b[0m \u001b[1;34m'pdm_fil_art-essai'\u001b[0m\u001b[1;33m)\u001b[0m\u001b[1;33m\u001b[0m\u001b[1;33m\u001b[0m\u001b[0m\n",
      "\u001b[1;32m<ipython-input-15-ea93afa46780>\u001b[0m in \u001b[0;36mconvertion\u001b[1;34m(data, typ, *var)\u001b[0m\n\u001b[0;32m     13\u001b[0m         \u001b[1;32mif\u001b[0m \u001b[0mtyp\u001b[0m \u001b[1;33m==\u001b[0m \u001b[1;34m\"str\"\u001b[0m\u001b[1;33m:\u001b[0m\u001b[1;33m\u001b[0m\u001b[1;33m\u001b[0m\u001b[0m\n\u001b[0;32m     14\u001b[0m             \u001b[1;32mfor\u001b[0m \u001b[0mi\u001b[0m \u001b[1;32min\u001b[0m \u001b[0mrange\u001b[0m\u001b[1;33m(\u001b[0m\u001b[1;36m1\u001b[0m\u001b[1;33m,\u001b[0m \u001b[0mlen\u001b[0m\u001b[1;33m(\u001b[0m\u001b[0mdata\u001b[0m\u001b[1;33m)\u001b[0m\u001b[1;33m)\u001b[0m\u001b[1;33m:\u001b[0m\u001b[1;33m\u001b[0m\u001b[1;33m\u001b[0m\u001b[0m\n\u001b[1;32m---> 15\u001b[1;33m                 \u001b[0mdata\u001b[0m\u001b[1;33m[\u001b[0m\u001b[0mi\u001b[0m\u001b[1;33m]\u001b[0m\u001b[1;33m[\u001b[0m\u001b[0mindex\u001b[0m\u001b[1;33m]\u001b[0m \u001b[1;33m=\u001b[0m \u001b[0mstr\u001b[0m\u001b[1;33m(\u001b[0m\u001b[0mdata\u001b[0m\u001b[1;33m[\u001b[0m\u001b[0mi\u001b[0m\u001b[1;33m]\u001b[0m\u001b[1;33m[\u001b[0m\u001b[0mindex\u001b[0m\u001b[1;33m]\u001b[0m\u001b[1;33m)\u001b[0m\u001b[1;33m\u001b[0m\u001b[1;33m\u001b[0m\u001b[0m\n\u001b[0m\u001b[0;32m     16\u001b[0m         \u001b[1;32mif\u001b[0m \u001b[0mtyp\u001b[0m \u001b[1;33m==\u001b[0m \u001b[1;34m\"int\"\u001b[0m\u001b[1;33m:\u001b[0m\u001b[1;33m\u001b[0m\u001b[1;33m\u001b[0m\u001b[0m\n\u001b[0;32m     17\u001b[0m             \u001b[1;32mfor\u001b[0m \u001b[0mi\u001b[0m \u001b[1;32min\u001b[0m \u001b[0mrange\u001b[0m\u001b[1;33m(\u001b[0m\u001b[1;36m1\u001b[0m\u001b[1;33m,\u001b[0m \u001b[0mlen\u001b[0m\u001b[1;33m(\u001b[0m\u001b[0mdata\u001b[0m\u001b[1;33m)\u001b[0m\u001b[1;33m)\u001b[0m\u001b[1;33m:\u001b[0m\u001b[1;33m\u001b[0m\u001b[1;33m\u001b[0m\u001b[0m\n",
      "\u001b[1;32mc:\\Users\\adrie\\anaconda3\\lib\\site-packages\\pandas\\core\\frame.py\u001b[0m in \u001b[0;36m__getitem__\u001b[1;34m(self, key)\u001b[0m\n\u001b[0;32m   3022\u001b[0m             \u001b[1;32mif\u001b[0m \u001b[0mself\u001b[0m\u001b[1;33m.\u001b[0m\u001b[0mcolumns\u001b[0m\u001b[1;33m.\u001b[0m\u001b[0mnlevels\u001b[0m \u001b[1;33m>\u001b[0m \u001b[1;36m1\u001b[0m\u001b[1;33m:\u001b[0m\u001b[1;33m\u001b[0m\u001b[1;33m\u001b[0m\u001b[0m\n\u001b[0;32m   3023\u001b[0m                 \u001b[1;32mreturn\u001b[0m \u001b[0mself\u001b[0m\u001b[1;33m.\u001b[0m\u001b[0m_getitem_multilevel\u001b[0m\u001b[1;33m(\u001b[0m\u001b[0mkey\u001b[0m\u001b[1;33m)\u001b[0m\u001b[1;33m\u001b[0m\u001b[1;33m\u001b[0m\u001b[0m\n\u001b[1;32m-> 3024\u001b[1;33m             \u001b[0mindexer\u001b[0m \u001b[1;33m=\u001b[0m \u001b[0mself\u001b[0m\u001b[1;33m.\u001b[0m\u001b[0mcolumns\u001b[0m\u001b[1;33m.\u001b[0m\u001b[0mget_loc\u001b[0m\u001b[1;33m(\u001b[0m\u001b[0mkey\u001b[0m\u001b[1;33m)\u001b[0m\u001b[1;33m\u001b[0m\u001b[1;33m\u001b[0m\u001b[0m\n\u001b[0m\u001b[0;32m   3025\u001b[0m             \u001b[1;32mif\u001b[0m \u001b[0mis_integer\u001b[0m\u001b[1;33m(\u001b[0m\u001b[0mindexer\u001b[0m\u001b[1;33m)\u001b[0m\u001b[1;33m:\u001b[0m\u001b[1;33m\u001b[0m\u001b[1;33m\u001b[0m\u001b[0m\n\u001b[0;32m   3026\u001b[0m                 \u001b[0mindexer\u001b[0m \u001b[1;33m=\u001b[0m \u001b[1;33m[\u001b[0m\u001b[0mindexer\u001b[0m\u001b[1;33m]\u001b[0m\u001b[1;33m\u001b[0m\u001b[1;33m\u001b[0m\u001b[0m\n",
      "\u001b[1;32mc:\\Users\\adrie\\anaconda3\\lib\\site-packages\\pandas\\core\\indexes\\base.py\u001b[0m in \u001b[0;36mget_loc\u001b[1;34m(self, key, method, tolerance)\u001b[0m\n\u001b[0;32m   3080\u001b[0m                 \u001b[1;32mreturn\u001b[0m \u001b[0mself\u001b[0m\u001b[1;33m.\u001b[0m\u001b[0m_engine\u001b[0m\u001b[1;33m.\u001b[0m\u001b[0mget_loc\u001b[0m\u001b[1;33m(\u001b[0m\u001b[0mcasted_key\u001b[0m\u001b[1;33m)\u001b[0m\u001b[1;33m\u001b[0m\u001b[1;33m\u001b[0m\u001b[0m\n\u001b[0;32m   3081\u001b[0m             \u001b[1;32mexcept\u001b[0m \u001b[0mKeyError\u001b[0m \u001b[1;32mas\u001b[0m \u001b[0merr\u001b[0m\u001b[1;33m:\u001b[0m\u001b[1;33m\u001b[0m\u001b[1;33m\u001b[0m\u001b[0m\n\u001b[1;32m-> 3082\u001b[1;33m                 \u001b[1;32mraise\u001b[0m \u001b[0mKeyError\u001b[0m\u001b[1;33m(\u001b[0m\u001b[0mkey\u001b[0m\u001b[1;33m)\u001b[0m \u001b[1;32mfrom\u001b[0m \u001b[0merr\u001b[0m\u001b[1;33m\u001b[0m\u001b[1;33m\u001b[0m\u001b[0m\n\u001b[0m\u001b[0;32m   3083\u001b[0m \u001b[1;33m\u001b[0m\u001b[0m\n\u001b[0;32m   3084\u001b[0m         \u001b[1;32mif\u001b[0m \u001b[0mtolerance\u001b[0m \u001b[1;32mis\u001b[0m \u001b[1;32mnot\u001b[0m \u001b[1;32mNone\u001b[0m\u001b[1;33m:\u001b[0m\u001b[1;33m\u001b[0m\u001b[1;33m\u001b[0m\u001b[0m\n",
      "\u001b[1;31mKeyError\u001b[0m: 1"
     ]
    }
   ],
   "source": [
    "data = convertion(data, \"str\", 'Numéro_Auto','Nom','Adresse','Région Admnistratives','Commune','N°INSEE', 'Departement', 'Nom Unité urbaine', 'propriétaire_cinéma','Art_et_essai', 'cat_art-essaie','label_art-essaie','mobilité','multiplexe','coordonnée_geo',\"programmateur\")\n",
    "data = convertion(data, \"int\", 'Population','Population Unité urbaine','Ecran', 'Nb_Fauteuils', 'Nb_semaines_ouvertes','Nb_Séance','Nb_Entrées-2020','Nb_Entrées-2019', 'nb_programmation','nb_films_inédit','nb_sem1')\n",
    "data = convertion(data, \"float\", 'Evolution_entrees', 'pdm_film_fr', 'pdm_film_US', 'pdm_film_UE', 'pdm_film_autres', 'pdm_fil_art-essai')"
   ]
  },
  {
   "cell_type": "code",
   "execution_count": 10,
   "id": "737ff11d",
   "metadata": {},
   "outputs": [],
   "source": [
    "def tri_var(df):\n",
    "  \"\"\"\n",
    "  Fonction qui sépare les variables qualitatives et quantitatives\n",
    "  Param: \n",
    "    - data (Dataframe): jeu de données initial\n",
    "  Return:\n",
    "    - quali (liste) : liste des variables qualitatives\n",
    "    - quanti (liste) :  liste des variables quantitatives\n",
    "  \"\"\"\n",
    "  quanti=[]\n",
    "  quali=[]\n",
    "  df_col=df.columns\n",
    "  for i in df_col:\n",
    "    if 'float' in str(df[i].dtypes):\n",
    "      quanti.append(i)\n",
    "    else:\n",
    "      quali.append(i)\n",
    "\n",
    "  return quali,quanti"
   ]
  },
  {
   "cell_type": "code",
   "execution_count": 11,
   "id": "7cb92282",
   "metadata": {},
   "outputs": [],
   "source": [
    "var_quali, var_quanti = tri_var(data)"
   ]
  },
  {
   "cell_type": "code",
   "execution_count": null,
   "id": "f72d767e",
   "metadata": {},
   "outputs": [
    {
     "name": "stdout",
     "output_type": "stream",
     "text": [
      "N° auto\n",
      "nom\n",
      "région administrative\n",
      "adresse\n",
      "code INSEE\n",
      "commune\n",
      "population de la commune\n",
      "DEP\n",
      "N°UU\n",
      "unité urbaine\n",
      "population unité urbaine\n",
      "situation géographique\n",
      "écrans\n",
      "fauteuils\n",
      "semaines d'activité\n",
      "séances\n",
      "entrées 2020\n",
      "entrées 2019\n",
      "évolution entrées\n",
      "tranche d'entrées\n",
      "propriétaire\n",
      "programmateur\n",
      "AE\n",
      "catégorie Art et Essai\n",
      "label Art et Essai\n",
      "genre\n",
      "multiplexe\n",
      "zone de la commune\n",
      "nombre de films programmés\n",
      "nombre de films inédits\n",
      "nombre de films en semaine 1\n",
      "PdM en entrées des films français\n",
      "PdM en entrées des films américains\n",
      "PdM en entrées des films européens\n",
      "PdM en entrées des autres films\n",
      "films Art et Essai\n",
      "PdM en entrées des films Art et Essai\n",
      "latitude\n",
      "longitude\n",
      "geolocalisation\n"
     ]
    }
   ],
   "source": []
  },
  {
   "cell_type": "code",
   "execution_count": null,
   "id": "3ad434dd",
   "metadata": {},
   "outputs": [],
   "source": []
  }
 ],
 "metadata": {
  "kernelspec": {
   "display_name": "Python 3",
   "language": "python",
   "name": "python3"
  },
  "language_info": {
   "codemirror_mode": {
    "name": "ipython",
    "version": 2
   },
   "file_extension": ".py",
   "mimetype": "text/x-python",
   "name": "python",
   "nbconvert_exporter": "python",
   "pygments_lexer": "ipython2",
   "version": "2.7.6"
  }
 },
 "nbformat": 4,
 "nbformat_minor": 5
}
